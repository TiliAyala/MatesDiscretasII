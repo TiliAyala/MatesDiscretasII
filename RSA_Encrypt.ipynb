{
  "cells": [
    {
      "cell_type": "markdown",
      "metadata": {
        "id": "CQ6ExH9k4T7d"
      },
      "source": [
        "# Proyecto final: Cifrador RSA\n",
        "\n",
        "### Autores:\n",
        "    → David Santiago Cruz Hernandez\n",
        "    → David Alexander Rativa Gutierrez\n",
        "    → Carlos Arturo Murcia Andrade\n",
        "    → Ivan Felipe Ayala Rengifo\n",
        "### Universidad:\n",
        "Universidad Nacional de Colombia (UNAL)\n",
        "### Curso:\n",
        "Matemáticas Discretas II (2025964-2)\n",
        "### Evaluador (profesor):\n",
        "Francisco Albeiro Gomez Jaramillo\n",
        "### Fecha de presentación:\n",
        "13 de junio de 2023\n",
        "### Video explicativo de este Jupyter Notebook:\n",
        "https://youtu.be/_1lzobzEA6c"
      ]
    },
    {
      "cell_type": "markdown",
      "source": [
        "## Introducción (Descripción del problema y motivación para abordarlo)\n",
        "\n",
        "### Un mensaje importante, con un par de problemas\n",
        "\n",
        "<p>Estas terminando el semestre, y por fin hallaste el coraje para invitar a salir a la persona que te gusta. Obviamente, como la persona detallista que eres, quieres que esta invitación sea algo íntimo y especial. Entonces, naturalmente, no quieres que nadie que no sea la persona de tus atenciones se entere.</p>\n",
        "<p>Quieres que todo salga bien, por lo que te tomas un café y te sientas a pensar un momento sobre cuál podría ser la solución más adecuada. Después de un tiempo, se te ocurren un par de ideas:</p>\n",
        "<ol>\n",
        "  <li>Escribir el mensaje en un papel y entregárselo de forma discreta..</li>\n",
        "  <li>Llamarla a su teléfono.</li>\n",
        "  <li>Escribirle un correo electrónico.</li>\n",
        "  <li>Hablar con ella directamente mientras está entre clases.</li>\n",
        "</ol>\n",
        "<p>Todas suenan como buenas ideas, pero alguien podría bien...</p>\n",
        "<ol>\n",
        "  <li>quitarte el papel y leer el mensaje.</li>\n",
        "  <li>escuchar lo que dices al otro lado del teléfono.</li>\n",
        "  <li>ver el correo electrónico si la persona que te gusta es de aquellas que olvida cerrar sesión.</li>\n",
        "  <li>o estar cerca de ella y enterarse de tu tan planeado mensaje.</li>\n",
        "</ol>\n",
        "<p>Y si no cuentas con la suficiente suerte, la persona que se haya enterado del mensaje puede revelárselo a todos, arruinando la ocasión y causándote un buen rato vergonzoso.</p>\n",
        "<p>Dejas que ese pensamiento pase por tu cabeza y no queda más que preguntarte, ¿qué puedo hacer?</p>\n",
        "<br />\n",
        "\n",
        "### Una (posible) solución ingenieril\n",
        "\n",
        "<p>Como buen estudiante de ingeniería sabes que siempre hay una mejor opción, una mejor forma de hacer las cosas, solo se requiere un poco de creatividad e ingenio.</p>\n",
        "<p>Resulta que acabas tomar un curso en matemáticas discretas y escuchaste que existe una forma de utilizar la aritmética modular para encriptar y desencriptar mensajes, se conoce como el <strong>algoritmo de cifrado RSA</strong>. Parece sonar como la mejor opción, sin embargo, nuevamente, como aspirante a ingeniero, debes hacer las debidas indagaciones y pruebas para comprobar si tu hipótesis es cierta.</p>\n",
        "<p>Ergo, es preciso hacer unas definiciones que permitan entender la solución que implementarás, y crear un algoritmo para hacer las respectivas pruebas. Información que se mostrará a continuación.</p>"
      ],
      "metadata": {
        "id": "WcD-nlTOlW40"
      }
    },
    {
      "cell_type": "markdown",
      "source": [
        "## Definiciones (conceptuales y formales)\n",
        "\n",
        "### Definiciones conceptuales\n",
        "\n",
        "<p>Antes de entrar en materia, es preciso definir unos conceptos importantes:</p>\n",
        "<ul>\n",
        "  <li><strong>Matemáticas discretas</strong>: Es el área de las matemáticas que se encarga del estudio de los conjuntos discretos (es decir, de aquellos conjuntos finitos o contables).</li>\n",
        "  <li><strong>Aritmética modular</strong>: Define como realizar operaciones sobre congruencias O, en otras palabras, permite el uso de “trucos” para simplificar cálculos. Esto es de gran utilidad cuando se necesiten hacer cálculos de números muy grandes y no se dispone de mucho espacio en memoria. Es decir, la aritmética modular permite ahorrar recursos computacionales.</li>\n",
        "  <li><strong>Algoritmo</strong>: Conjunto ordenado y finito de operaciones que permite hallar la solución de un problema.</li>\n",
        "  <li><strong>Mensaje</strong>: Es el objeto de la comunicación. Es la información que el emisor envía al receptor a través de un medio de comunicación.</li>\n",
        "  <li><strong>Cifrado</strong>: Es el proceso de codificación de la información. Es una técnica que consiste en escribir mensajes en clave, protegiendo el contenido del mismo. Esto ocurre mediante un algoritmo que vuelve incomprensible el mensaje y a la generación de clave que permite comprenderlo.</li>\n",
        "</ul>\n",
        "\n",
        "### Definiciones formales\n",
        "\n",
        "<p> Ya con las definiciones conceptuales planteadas, es necesario brindar las definiciones matemáticas formales que darán forma a la solución que se planteará.</p>\n",
        "<ul>\n",
        "  <li><strong>Congruencia</strong>: Sea n un entero positivo, los enteros a y b son congruentes modulo n si cada uno tiene el mismo residuo en la división por n. Si es así, se escribe: a ≡ b (mod n).</li>\n",
        "  <li><strong>Euler Totient</strong>: La función ɸ de Euler u Euler Totient es ɸ(n) = |{x: 1 ≤ x ≤ n ∧ mcd(n, x) = 1}|. O sea, el número de enteros positivos x ≤ n que no tienen divisores comunes con n.</li>\n",
        "  <li><strong>Máximo común divisor (GCD, en inglés)</strong>: El máximo común divisor de dos enteros a y b es el mayor npumero entero positivo n que es divisor de a y b.</li>\n",
        "  <li><strong>Número primo</strong>: Es un número natural mayor que 1 que tiene únicamente dos divisores positivos distintos: él mismo y el 1.</li>\n",
        "  <li><strong>Número primo relativo</strong>: Dos números son primos relativos (o coprimos) si el máximo común divisor entre ellos es 1.</li>\n",
        "  <li><strong>Inverso multiplicativo</strong>: Un inverso multiplicativo módulo n de a es el número r tal que a * r ≡ 1 (mod n).</li>\n",
        "  <li><strong>Teorema de la división</strong>: Suponga que a ∈ Z y n ∈ Z > 0. Entonces, existen enteros q y r tales que: a = q ∗ n + r, 0 ≤ r < n. q es el cociente y r es el residuo.</li>\n",
        "  <li><strong>Algoritmo de Euclides</strong>: Es usado para encontrar el Máximo Común Divisor y se describe de la siguiente manera. Suponga que a y b son enteros positivos:</li>\n",
        "  <ol>\n",
        "    <li>Aplicar el teorema de la división repetidamente.</li>\n",
        "    <ul>\n",
        "      <li>a = q1 ∗ b + r1</li>\n",
        "      <li>b = q2 ∗ r1 + r2</li>\n",
        "      <li>r1 = q3 ∗ r2 + r3</li>\n",
        "      <li>r2 = q4 ∗ r3 + r4</li>\n",
        "    </ul>\n",
        "    <li>Detenerse cuando el residuo sea 0.</li>\n",
        "    <li>El M.C.D. es el residuo de la ecuación anterior a la última (por ejemplo, si r4 = 0, entonces, r3 es el M.C.D.).</li>\n",
        "  </ol>\n",
        "  <li><strong>Identidad de Bézout</strong>: Dados dos enteros a y b, ambos diferentes de 0 , y siendo d el Máximo Común Divisor. Entonces, existen enteros v y w tales que: d = av+bw. Existe un algoritmo que permite hallar las constantes v y w:</li>\n",
        "  <ol>\n",
        "    <li>Aplicar el teorema de la división repetidamente.</li>\n",
        "    <ul>\n",
        "      <li>a = q1 ∗ b + r1</li>\n",
        "      <li>b = q2 ∗ r1 + r2</li>\n",
        "      <li>r1 = q3 ∗ r2 + r3</li>\n",
        "      <li>r2 = q4 ∗ r3 + r4</li>\n",
        "    </ul>\n",
        "    <li>Detenerse cuando el residuo sea 0.</li>\n",
        "    <li>Aislar todos los residuos (excepto el que es igual a cero) y los números a y b. Es decir, despejarlos de las ecuaciones del teorema del residuo (por ejemplo, r1 se expresaría como r1 = a − q1 ∗ b).</li>\n",
        "    <li>Hacer una “sustitución hacia atrás” (haciendo operaciones de arriba hacia abajo con las ecuaciones despejadas, es decir, desde r1 hasta rn) hasta que se llegue a la ecuación que incluye el penúltimo residuo (el último que es mayor que 0). Esa estará expresada en términos de a y b; las constantes que acompañen esos términos serán v y w.</li>\n",
        "    <ul>\n",
        "      <li>Nota 1: No se deben operar los residuos, solo se deben operar las constantes y/o términos comunes que los acompañen.</li>\n",
        "      <li>Nota 2: Cuando a o b (o ambos) son negativos, simplemente se hace la “sustitución hacia atrás” como si los números fueran positivos, luego, se reemplazan (v y w) en la identidad de Bézout conforme su signo.</li>\n",
        "    </ul>\n",
        "  </ol>\n",
        "  \n",
        "</ul>"
      ],
      "metadata": {
        "id": "Bwb1ScuImMus"
      }
    },
    {
      "cell_type": "markdown",
      "source": [
        "## El algoritmo RSA\n",
        "\n",
        "<p>Habiendo mostrado las definiciones tanto conceptuales como formales, es necesario describir el algoritmo RSA (la solución que se implementará).</p>\n",
        "<p>El algoritmo de cifrado RSA es un sistema criptográfico asimétrico ampliamente utilizado para garantizar la seguridad de la comunicación y proteger la información sensible. Fue creado en 1977 por los criptógrafos Ron Rivest, Adi Shamir y Leonard Adleman en el Instituto de Tecnología de Massachusetts (MIT).</p>\n",
        "<p>La motivación detrás del desarrollo del algoritmo RSA fue proporcionar un método de cifrado seguro que pudiera garantizar la confidencialidad y autenticidad de los datos transmitidos a través de canales inseguros, como Internet. El cifrado RSA se basa en el concepto de clave pública y clave privada, también conocido como criptografía asimétrica.</p>\n",
        "<p>El problema que resuelve el algoritmo RSA es la necesidad de compartir información confidencial de manera segura sin que los interceptores puedan acceder a ella. El algoritmo permite a las partes comunicarse de forma segura a través de un canal inseguro sin necesidad de compartir previamente una clave secreta.</p>\n",
        "<p>El algoritmo funciona de la siguiente manera:</p>\n",
        "<ol>\n",
        "  <li>Escoger 2 números enteros lo suficientemente grandes. Estos serán p y q.</li>\n",
        "  <li>Calcular n = p * q.</li>\n",
        "  <li>Calcular ɸ(n) = (p - 1)(q - 1).</li>\n",
        "  <li>Escoger un número a con las siguientes características:</li>\n",
        "  <ul>\n",
        "    <li>2 ≤ a ≤ ɸ(n)</li>\n",
        "    <li>gcd(a, ɸ(n)) = 1</li>\n",
        "    <li>a y ɸ(n) sean primos relativos (coprimos)</li>\n",
        "  </ul>\n",
        "  <li>Calcular b = a^(-1) módulo ɸ(n).</li>\n",
        "  <li>Publicar n y a.</li>\n",
        "  <li>Mantener p, q y b ocultos.</li>\n",
        "</ol>\n",
        "<p>Las funciones de encriptación y desencriptación son las siguientes:</p>\n",
        "<ul>\n",
        "  <li>e(x) = x^a mod n -> Función de encriptación</li>\n",
        "  <li>d(y) = y^b mod n -> Función de desencriptación</li>\n",
        "</ul>\n",
        "\n",
        "### Ejemplo\n",
        "\n",
        "<p>El algoritmo RSA puede verse aplicado así:</p>\n",
        "<ol>\n",
        "  <li>Generación de claves:</li>\n",
        "  <ul>\n",
        "    <li>Pepito (el emisor) elige dos números primos grandes, p y q. Supongamos que p = 17 y q = 11.</li>\n",
        "    <li>Se calcula el producto n = p * q. En este caso, n = 17 * 11 = 187.</li>\n",
        "    <li>Se calcula la función phi de Euler de n, ɸ(n) = (p - 1) * (q - 1) = 16 * 10 = 160.</li>\n",
        "    <li>Se elige un número a que sea coprimo con ɸ(n) y menor que ɸ(n). Supongamos que a = 7. (7 y 160 son coprimos).</li>\n",
        "    <li>Se calcula b, el inverso multiplicativo de a módulo ɸ(n). En este caso, b = 23 (7 * 23 ≡ 1 mod 160).</li>\n",
        "  </ul>\n",
        "  <li>Intercambio de claves:</li>\n",
        "  <ul>\n",
        "    <li>Pepito (el emisor) hace público n y a (la clave pública).</li>\n",
        "    <li>Fulanito (el receptor) quiere enviar un mensaje a Pepito. Primero, convierte el mensaje en un número. Supongamos que el mensaje es \"8\" y su representación numérica es 8.</li>\n",
        "    <li>Fulanito utiliza la clave pública de Pepito (n y a) para cifrar su mensaje. Cifrado: 8^7 mod 187 = 129.</li>\n",
        "  </ul>\n",
        "  <li>Descifrado del mensaje:</li>\n",
        "  <ul>\n",
        "    <li>Pepito usa su clave privada (b) para descifrar el mensaje cifrado de Fulanito. Descifrado: 129^23 mod 187 = 8.</li>\n",
        "  </ul>\n",
        "</ol>       \n",
        "  "
      ],
      "metadata": {
        "id": "sdYHwkU7mPAh"
      }
    },
    {
      "cell_type": "markdown",
      "source": [
        "## Implementación algoritmica del cifrado RSA\n",
        "\n",
        "<p>Ahora, se procederá a describir el proceso algoritmico llevado a cabo para implementar el cifrado RSA.</p>\n",
        "\n",
        "### Imports y declaración de variables\n",
        "\n",
        "<p>Primero, se importa lo siguiente:</p>\n",
        "<ul>\n",
        "  <li>las funciones isprime y randprime de la biblioteca Sympy. isprime se utiliza para verificar si un número es primo, mientras que randprime se utiliza para generar un número primo aleatorio.</li>\n",
        "  <li>la función deepcopy de la biblioteca copy. deepcopy se utiliza para crear una copia profunda de un objeto, lo que significa que se copian todos los objetos internos también.</li>\n",
        "  <li>la biblioteca matemática estándar de Python (math). Se utiliza para realizar operaciones matemáticas comunes.</li>\n",
        "  <li>la biblioteca random de Python. Se utiliza para generar números aleatorios.</li>\n",
        "  <li>la biblioteca base64 de Python. Se utiliza para codificar y decodificar datos en formato base64.</li>\n",
        "</ul>\n",
        "<p>Luego se definen, la siguientes variables:</p>\n",
        "<ul>\n",
        "  <li>p: que representa uno de los primos lo suficientemente grandes en el calculo n = p * q</li>\n",
        "  <li>q: que representa el otro de los primos lo suficientemente grandes en el calculo n = p * q</li>\n",
        "  <li>n: que representa el calculo de p * q.</li>\n",
        "  <li>a: que representa el número que cumple con: 2 ≤ a ≤ ɸ(n), gcd(a, ɸ(n)) = 1, a y ɸ(n) coprimos.</li>\n",
        "  <li>totientN: que representa ɸ(n). O sea, el Totient de n.</li>\n",
        "  <li>b: que representa el inverso multiplicativo de a modulo n.</li>\n",
        "  <li>DicResidues: que contendrá los residuos cálculados en el algoritmo de Euclides.</li>\n",
        "  <li>equalityBase: que contendrá las variables asociadas con la identidad de Bézout.</li>\n",
        "</ul>"
      ],
      "metadata": {
        "collapsed": false,
        "id": "_lLkLMgz4T7e"
      }
    },
    {
      "cell_type": "code",
      "execution_count": null,
      "metadata": {
        "id": "tA5AIxNA4T7e"
      },
      "outputs": [],
      "source": [
        "from sympy import isprime, randprime\n",
        "from copy import deepcopy\n",
        "import math\n",
        "import random\n",
        "import base64\n",
        "\n",
        "p = 0\n",
        "q = 0\n",
        "n = 0\n",
        "a = 0\n",
        "totientN = 0\n",
        "b = 0\n",
        "DicResidues = {}\n",
        "equalityBase = []"
      ]
    },
    {
      "cell_type": "markdown",
      "metadata": {
        "id": "ZhIPCpde4T7f"
      },
      "source": [
        "### Declaración de métodos de impresión\n",
        "\n",
        "<p>Se declaran los siguientes métodos de impresión</p>\n",
        "<ul>\n",
        "  <li>bold(Str): una función que toma una cadena y la devuelve con formato en negrita.</li>\n",
        "  <li>printYellow(Str): una función que toma una cadena y la devuelve con formato de color amarillo.</li>\n",
        "  <li>printRed(Str): una función que toma una cadena y la devuelve con formato de color rojo.</li>\n",
        "</ul>\n",
        "    \n",
        "    "
      ]
    },
    {
      "cell_type": "code",
      "execution_count": null,
      "metadata": {
        "id": "3mcGt4az4T7f"
      },
      "outputs": [],
      "source": [
        "def bold(Str):\n",
        "    return \"\\033[1m\" + Str + \"\\033[0m\"\n",
        "\n",
        "\n",
        "def printYellow(Str):\n",
        "    return \"\\033[93m\" + Str + \"\\033[0m\"\n",
        "\n",
        "\n",
        "def printRed(Str):\n",
        "    return \"\\033[91m\" + Str + \"\\033[0m\""
      ]
    },
    {
      "cell_type": "markdown",
      "source": [
        "### Declaración de funciones relacionadas con el algoritmo de Euclides\n",
        "\n",
        "<p>Se declaran las siguientes funciones:</p>\n",
        "<ul>\n",
        "  <li>printAlgorithm: esta función imprime los valores del algoritmo de Euclides</li>\n",
        "  <ul>\n",
        "    <li>Si R es igual a cero, imprime la ecuación en el formato \"A = Q • B + R\", donde A, Q, B y R son los valores proporcionados. El valor de R se muestra en negrita.</li>\n",
        "    <li>Si B es divisible por R, verifica si R es igual a 1. Si es así, imprime la ecuación en el formato anterior, pero con el valor de R en amarillo. De lo contrario, imprime la ecuación con el valor de R en rojo.</li>\n",
        "    <li>Si ninguna de las condiciones anteriores se cumple, imprime la ecuación en el formato original sin resaltar ningún valor.</li>\n",
        "  </ul>\n",
        "  <li>printEqualityBase: esta función imprime la información de las constantes relacionadas con la igualdad de Bezout. Toma cuatro parámetros: equalityOld, equalityBase, sustitution y opt2.</li>\n",
        "  <ul>\n",
        "    <li>Si opt2 es igual a 1, construye una cadena sustitution utilizando los valores de las variables y resalta ciertos elementos de la cadena en negrita y amarillo.</li>\n",
        "    <li>Si opt2 no es igual a 1, construye la cadena sustitution de manera similar, pero resalta elementos diferentes en negrita y amarillo.</li>\n",
        "  </ul>\n",
        "</ul>"
      ],
      "metadata": {
        "id": "h_g1tUbgFCo4"
      }
    },
    {
      "cell_type": "code",
      "execution_count": null,
      "metadata": {
        "id": "HsbVLico4T7f"
      },
      "outputs": [],
      "source": [
        "def printAlgorithm(A, B, Q, R):\n",
        "    if R == 0:\n",
        "        print(str(A) + \" = \" + str(Q) + \"•\" + str(B) + \" + \" + bold(str(R)))\n",
        "    elif B % R == 0:\n",
        "        if R == 1:\n",
        "            print(str(A) + \" = \" + str(Q) + \"•\" + str(B) + \" + \" + printYellow(str(R)))\n",
        "        else:\n",
        "            print(str(A) + \" = \" + str(Q) + \"•\" + str(B) + \" + \" + printRed(str(R)))\n",
        "\n",
        "    else:\n",
        "        print(str(A) + \" = \" + str(Q) + \"•\" + str(B) + \" + \" + str(R))"
      ]
    },
    {
      "cell_type": "code",
      "execution_count": null,
      "metadata": {
        "id": "DMW2tVNu4T7f"
      },
      "outputs": [],
      "source": [
        "def printEqualityBase(equalityOld, equalityBase, sustitution, opt2):\n",
        "    if opt2 == 1:\n",
        "        sustitution = str(equalityOld[1][0]) + \" [\" + str(sustitution[0]) + \" - \" + str(sustitution[1]) + \"•\" + str(sustitution[2]) + \"] - \" + str(equalityOld[2][0]) + \" (\" + str(equalityOld[2][1]) + \")\"\n",
        "    else:\n",
        "        sustitution = str(equalityOld[1][0]) + \" (\" + str(equalityOld[1][1]) + \") - \" + str(equalityOld[2][0]) + \" [\" + str(sustitution[0]) + \" - \" + str(sustitution[1]) + \"•\" + str(sustitution[2]) + \"]\"\n",
        "    print(bold(str(equalityBase[0]) + \" = \") + sustitution\n",
        "          + bold( \"    =    \") + str(equalityBase[1][0]) + \" (\" + str(equalityBase[1][1]) + \") - \" + str(equalityBase[2][0]) + \" (\" + str(equalityBase[2][1]) + \")\\n\")"
      ]
    },
    {
      "cell_type": "markdown",
      "metadata": {
        "id": "ttCRgITM4T7g"
      },
      "source": [
        "### Paso 1 del algoritmo RSA: escoger dos números primos lo suficientemente grandes.\n",
        "\n",
        "<p>La función choose2LargePrimes() genera dos números primos aleatorios grandes, y los almacena en las variables globales p y q. Utiliza la función randprime(a, b) de la biblioteca sympy para generar dos números primos aleatorios en el rango entre 100,000,000 y 1,000,000,000. Una vez generados imprime los valores de p y q. Los valores se muestran en amarillo utilizando la función printYellow()."
      ]
    },
    {
      "cell_type": "code",
      "execution_count": null,
      "metadata": {
        "id": "YfnZocmy4T7g"
      },
      "outputs": [],
      "source": [
        "def choose2LargePrimes():\n",
        "    global p\n",
        "    global q\n",
        "    p = randprime(100000000, 1000000000)\n",
        "    q = randprime(100000000, 1000000000)\n",
        "    print(printYellow(\"p = \") + str(p))\n",
        "    print(printYellow(\"q = \") + str(q))"
      ]
    },
    {
      "cell_type": "code",
      "execution_count": null,
      "metadata": {
        "colab": {
          "base_uri": "https://localhost:8080/"
        },
        "id": "eBvCfJYu4T7g",
        "outputId": "7f3c68c8-dcd5-4d22-b607-3b92467dc8c8"
      },
      "outputs": [
        {
          "output_type": "stream",
          "name": "stdout",
          "text": [
            "\u001b[93mp = \u001b[0m871177093\n",
            "\u001b[93mq = \u001b[0m732042637\n"
          ]
        }
      ],
      "source": [
        "choose2LargePrimes()"
      ]
    },
    {
      "cell_type": "markdown",
      "metadata": {
        "id": "WawOhXq14T7g"
      },
      "source": [
        "### Paso 2 del algoritmo RSA: calcular n = p * q.\n",
        "\n",
        "<p>La función computePxQ() se encarga de calcular el producto de las variables globales p y q, luego almacenandolas en la variable global n. Una vez hecho eso, se imprime el valor de n. La impresión se realiza resaltando el texto en amarillo utilizando la función printYellow().</p>\n",
        "\n"
      ]
    },
    {
      "cell_type": "code",
      "execution_count": null,
      "metadata": {
        "id": "dEdscsU94T7g"
      },
      "outputs": [],
      "source": [
        "def computePxQ():\n",
        "    global n\n",
        "    n = p * q\n",
        "    print(printYellow(\"n =\") + \" p•q = \" + str(p) + \"•\" + str(q) + \" = \" + str(n))"
      ]
    },
    {
      "cell_type": "code",
      "execution_count": null,
      "outputs": [
        {
          "output_type": "stream",
          "name": "stdout",
          "text": [
            "\u001b[93mn =\u001b[0m p•q = 871177093•732042637 = 637738776453714241\n"
          ]
        }
      ],
      "source": [
        "computePxQ()"
      ],
      "metadata": {
        "colab": {
          "base_uri": "https://localhost:8080/"
        },
        "id": "rYWnqCCw4T7g",
        "outputId": "205fadb5-d150-4092-83ed-baf85144487a"
      }
    },
    {
      "cell_type": "markdown",
      "metadata": {
        "id": "lHURgQxi4T7h"
      },
      "source": [
        "### Paso 3 del algoritmo RSA: calcular Totient de Euler de n.\n",
        "\n",
        "<p>Tal como se menciono en su definición formal, el Totient de n en el contexto del algoritmo RSA puede ser calculado como (p - 1)(q - 1). La función computeTotientEuler() se encarga de ello.</p>\n",
        "<p>La función utiliza la variable global, totientN, para almacenar el resultado del cálculo de la función phi de Euler para los números primos p y q. Luego, calcula el valor de la función phi de Euler multiplicando (p - 1) y (q - 1) y asigna el resultado a la variable totientN. Después, imprime el valor de totientN en la terminal. La impresión se realiza resaltando el texto en amarillo y en negrita utilizando la función printYellow() y bold() respectivamente.</p>"
      ]
    },
    {
      "cell_type": "code",
      "execution_count": null,
      "metadata": {
        "id": "ZIBVnOIh4T7h"
      },
      "outputs": [],
      "source": [
        "def computeTotientEuler():\n",
        "    global totientN\n",
        "    totientN = (p - 1) * (q - 1)\n",
        "    print(printYellow(bold(\"φ(n) = \")) +  \"(p - 1) • (q - 1) = (\" + str(p) + \" - 1) • (\" + str(q) + \" - 1) = \" + str(totientN))"
      ]
    },
    {
      "cell_type": "code",
      "execution_count": null,
      "outputs": [
        {
          "output_type": "stream",
          "name": "stdout",
          "text": [
            "\u001b[93m\u001b[1mφ(n) = \u001b[0m\u001b[0m(p - 1) • (q - 1) = (871177093 - 1) • (732042637 - 1) = 637738774850494512\n"
          ]
        }
      ],
      "source": [
        "computeTotientEuler()"
      ],
      "metadata": {
        "colab": {
          "base_uri": "https://localhost:8080/"
        },
        "id": "IQJOhIM84T7h",
        "outputId": "9c7bba97-d055-4c4b-ad40-66ff62173f0c"
      }
    },
    {
      "cell_type": "markdown",
      "metadata": {
        "id": "hUbK3m0g4T7h"
      },
      "source": [
        "### Paso 4 del algoritmo RSA: escoger un número a aleatorio que cumpla: 2 ≤ a ≤ ɸ(n), gcd(a, ɸ(n)) = 1, a y ɸ(n) sean primos relativos (coprimos).\n",
        "\n",
        "<p>Las funciones chooseGCDAandTotient(), divisionAlgorithm(A, B), euclidesAlgorithm(A, B) y insertInMatrix(A, Q, B, R) se utilizan para calcular el máximo común divisor entre dos números y verificar si son primos relativos. También se realizan divisiones sucesivas utilizando el algoritmo de Euclides y se almacenan los residuos y las igualdades en matrices para su posterior uso.</p>\n",
        "<p>La función chooseGCDAandTotient() elige un número a que sea mayor o igual a 2 y menor o igual que totientN, de modo que a y totientN sean primos relativos. Utiliza un bucle while para generar números aleatorios en el rango requerido y utiliza el algoritmo de Euclides (euclidesAlgorithm()) para verificar si el máximo común divisor (MCD) entre a y totientN es igual a 1.</p>\n",
        "<p>La función divisionAlgorithm(A, B) implementa el algoritmo de la división. Recibe dos números A y B, realiza la división entera entre ellos y calcula el cociente Q y el residuo R. Luego, imprime los resultados utilizando la función printAlgorithm() y guarda los valores en una matriz utilizando la función insertInMatrix(). Finalmente, devuelve los valores B y R.</p>\n",
        "<p>La función euclidesAlgorithm(A, B) implementa el algoritmo de Euclides para calcular el MCD entre dos números A y B. Utiliza una variable global DicResidues para almacenar los residuos obtenidos durante el proceso y una variable global equalityBase para almacenar una matriz que representa las igualdades sucesivas. La función utiliza la función divisionAlgorithm() para realizar las divisiones sucesivas y determinar el MCD. Luego, imprime el resultado y verifica si el MCD es igual a 1, lo que indica que A y B son primos relativos.</p>\n",
        "<p>La función insertInMatrix(A, Q, B, R) inserta los valores A, Q, B y R en la matriz DicResidues. Si el residuo R es igual a 1, también asigna los valores correspondientes a la variable global equalityBase.</p>"
      ]
    },
    {
      "cell_type": "code",
      "execution_count": null,
      "metadata": {
        "id": "GqMxYzG-4T7h"
      },
      "outputs": [],
      "source": [
        "def chooseGCDAandTotient():\n",
        "    global a\n",
        "    global totientN\n",
        "    print(printYellow(\"   --- Algoritmo para calcular un número Aleatorio a que sea ≥ 2 y ≤ \" + bold(str(totientN)))  + printYellow(\", tal que a y \" + bold(str(totientN))) + printYellow(\" sean Primos Relativos. \" + \"\\n\\n \"))\n",
        "\n",
        "    GCD = 0\n",
        "    counter = 0\n",
        "    while GCD != 1:\n",
        "        counter += 1\n",
        "        print(bold(\"  ----  INTENTO # \" + str(counter)+ \"  ----  \") + \"\\n\")\n",
        "        a = random.randint(2,totientN)\n",
        "        GCD = euclidesAlgorithm(a, totientN)"
      ]
    },
    {
      "cell_type": "code",
      "execution_count": null,
      "metadata": {
        "id": "edMNzBTj4T7h"
      },
      "outputs": [],
      "source": [
        "def divisionAlgorithm(A, B):\n",
        "    Q = math.trunc(A / B)\n",
        "    R = A - Q * B\n",
        "    printAlgorithm(A, B, Q, R)\n",
        "    insertInMatrix(A, Q, B, R)\n",
        "    return B, R"
      ]
    },
    {
      "cell_type": "code",
      "execution_count": null,
      "metadata": {
        "id": "XPpZkxTH4T7h"
      },
      "outputs": [],
      "source": [
        "def euclidesAlgorithm(A, B):\n",
        "    GCD = 0\n",
        "    global DicResidues\n",
        "    global equalityBase\n",
        "    DicResidues = {}\n",
        "    equalityBase = []\n",
        "\n",
        "    print(bold(\"Algoritmo de la División:\") + \" a = q•b + r\\n\")\n",
        "    print(bold(\"a = \") + str(A) + \", \" + bold(\"b = \" + printYellow(bold(\"φ(n) = \"))) + str(B) + \"\\n\")\n",
        "    resultA, resultB = divisionAlgorithm(A, B)\n",
        "    while resultB != 0:\n",
        "        if resultA % resultB == 0:\n",
        "            GCD = resultB\n",
        "        resultA, resultB = divisionAlgorithm(resultA, resultB)\n",
        "\n",
        "    if resultA ==1:\n",
        "        print(\"\\n\" + bold(\"El Máximo Común Divisor entre \" + str(A) + \" y \" + str(B) + \" es: \") + printYellow(str(resultA)) + \".\\n\" +\n",
        "                printYellow(\"  ---- Por lo tanto, a y φ(n) SI son Primos Relativos ✅ ----  \") + \"\\n\\n\\n\" +\n",
        "                printYellow(\"        a = \") + str(A) + \"\\n\")\n",
        "    else:\n",
        "        print(\"\\n\" + bold(\"El Máximo Común Divisor entre \" + str(A) + \" y \" + str(B) + \" es: \") + printRed(str(resultA)) + \".\\n\" +\n",
        "                 printRed(\"  ---- Por lo tanto, a y φ(n) NO son Primos Relativos ❌ ----  \") + \"\\n\\n\\n\")\n",
        "    return GCD"
      ]
    },
    {
      "cell_type": "code",
      "execution_count": null,
      "metadata": {
        "id": "6lqyCJis4T7i"
      },
      "outputs": [],
      "source": [
        "def insertInMatrix(A, Q, B, R):\n",
        "    if R>=1:\n",
        "        DicResidues[R] = [A, Q, B]\n",
        "        if R==1:\n",
        "            global equalityBase\n",
        "            equalityBase =[R, [1, A], [Q, B]]"
      ]
    },
    {
      "cell_type": "markdown",
      "source": [
        "<p>La ejecución de a función chooseGCDAandTotient() permitirá encontrar el valor de a que cumpla con las caracteristicas mencionadas.</p>"
      ],
      "metadata": {
        "id": "ScvWQsklySWk"
      }
    },
    {
      "cell_type": "code",
      "execution_count": null,
      "metadata": {
        "colab": {
          "base_uri": "https://localhost:8080/"
        },
        "id": "ZTorubA64T7i",
        "outputId": "655ad50d-7120-48b6-c8bd-8974e18649d6"
      },
      "outputs": [
        {
          "output_type": "stream",
          "name": "stdout",
          "text": [
            "\u001b[93m   --- Algoritmo para calcular un número Aleatorio a que sea ≥ 2 y ≤ \u001b[1m637738774850494512\u001b[0m\u001b[0m\u001b[93m, tal que a y \u001b[1m637738774850494512\u001b[0m\u001b[0m\u001b[93m sean Primos Relativos. \n",
            "\n",
            " \u001b[0m\n",
            "\u001b[1m  ----  INTENTO # 1  ----  \u001b[0m\n",
            "\n",
            "\u001b[1mAlgoritmo de la División:\u001b[0m a = q•b + r\n",
            "\n",
            "\u001b[1ma = \u001b[0m491050170652007665, \u001b[1mb = \u001b[93m\u001b[1mφ(n) = \u001b[0m\u001b[0m\u001b[0m637738774850494512\n",
            "\n",
            "491050170652007665 = 0•637738774850494512 + 491050170652007665\n",
            "637738774850494512 = 1•491050170652007665 + 146688604198486847\n",
            "491050170652007665 = 3•146688604198486847 + 50984358056547124\n",
            "146688604198486847 = 2•50984358056547124 + 44719888085392599\n",
            "50984358056547124 = 1•44719888085392599 + 6264469971154525\n",
            "44719888085392599 = 7•6264469971154525 + 868598287310924\n",
            "6264469971154525 = 7•868598287310924 + 184281959978057\n",
            "868598287310924 = 4•184281959978057 + 131470447398696\n",
            "184281959978057 = 1•131470447398696 + 52811512579361\n",
            "131470447398696 = 2•52811512579361 + 25847422239974\n",
            "52811512579361 = 2•25847422239974 + 1116668099413\n",
            "25847422239974 = 23•1116668099413 + 164055953475\n",
            "1116668099413 = 6•164055953475 + 132332378563\n",
            "164055953475 = 1•132332378563 + 31723574912\n",
            "132332378563 = 4•31723574912 + 5438078915\n",
            "31723574912 = 5•5438078915 + 4533180337\n",
            "5438078915 = 1•4533180337 + 904898578\n",
            "4533180337 = 5•904898578 + 8687447\n",
            "904898578 = 104•8687447 + 1404090\n",
            "8687447 = 6•1404090 + 262907\n",
            "1404090 = 5•262907 + 89555\n",
            "262907 = 2•89555 + 83797\n",
            "89555 = 1•83797 + 5758\n",
            "83797 = 14•5758 + 3185\n",
            "5758 = 1•3185 + 2573\n",
            "3185 = 1•2573 + 612\n",
            "2573 = 4•612 + 125\n",
            "612 = 4•125 + 112\n",
            "125 = 1•112 + 13\n",
            "112 = 8•13 + 8\n",
            "13 = 1•8 + 5\n",
            "8 = 1•5 + 3\n",
            "5 = 1•3 + 2\n",
            "3 = 1•2 + \u001b[93m1\u001b[0m\n",
            "2 = 2•1 + \u001b[1m0\u001b[0m\n",
            "\n",
            "\u001b[1mEl Máximo Común Divisor entre 491050170652007665 y 637738774850494512 es: \u001b[0m\u001b[93m1\u001b[0m.\n",
            "\u001b[93m  ---- Por lo tanto, a y φ(n) SI son Primos Relativos ✅ ----  \u001b[0m\n",
            "\n",
            "\n",
            "\u001b[93m        a = \u001b[0m491050170652007665\n",
            "\n"
          ]
        }
      ],
      "source": [
        "chooseGCDAandTotient()"
      ]
    },
    {
      "cell_type": "markdown",
      "metadata": {
        "id": "x8Kiqzox4T7i"
      },
      "source": [
        "### Paso 5 del algoritmo RSA: calcular b, que es el inverso multiplicativo de a mod ɸ(n).\n",
        "\n",
        "<p>El siguiente conjunto de funciones están relacionadas con el cálculo del inverso multiplicativo del número a módulo totientN utilizando el algoritmo de Euclides extendido y la identidad de Bézout.</p>\n",
        "<p>La función computeB() es la función encargada de calcular el inverso multiplicativo de a (es decir, calcula b). Imprime un mensaje descriptivo y luego llama a las funciones backSustitution() y getInverse().</p>\n",
        "<p>La función backSustitution() realiza la sustitución inversa utilizando la identidad de Bézout. Recorre los residuos almacenados en la variable global DicResidues, excepto el residuo 1, y para cada residuo llama a la función bezoutIdentity().</p>\n",
        "<p>La función bezoutIdentity(residuo) realiza la sustitución de la identidad de Bézout para un residuo dado. Obtiene la sustitución correspondiente a partir de la variable global DicResidues y realiza la sustitución en la matriz equalityBase. Luego, llama a la función printEqualityBase() para imprimir la igualdad resultante.</p>\n",
        "<p>La función getInverse(A, N) calcula el inverso multiplicativo de A módulo N. Verifica si A coincide con uno de los residuos de la matriz equalityBase y obtiene el inverso correspondiente. Si el inverso es negativo, realiza un ajuste para obtener el inverso mínimo congruente. Imprime el inverso calculado y realiza una comprobación para verificar que el resultado sea congruente con 1 módulo N. Finalmente, asigna el inverso a la variable global b.</p>"
      ]
    },
    {
      "cell_type": "code",
      "execution_count": null,
      "metadata": {
        "id": "D4AOTRAv4T7i"
      },
      "outputs": [],
      "source": [
        "def computeB():\n",
        "    print(printYellow(\"   --- Algoritmo para calcular el Inverso Multiplicativo de \" + bold(str(a) + \" mod \" + str(totientN) + \". ---   \")) + \"\\n\\n \")\n",
        "    #algoritmoEuclides(a, totientN)\n",
        "    backSustitution()\n",
        "    getInverse(a, totientN)"
      ]
    },
    {
      "cell_type": "code",
      "execution_count": null,
      "metadata": {
        "id": "YPumn66F4T7i"
      },
      "outputs": [],
      "source": [
        "def backSustitution():\n",
        "    print(bold(\"    IDENTIDAD DE BEZOUT    \\n\"))\n",
        "    residues = list(DicResidues.keys())\n",
        "    residues.remove(1)\n",
        "    for residue in reversed(residues):\n",
        "        bezoutIdentity(residue)"
      ]
    },
    {
      "cell_type": "code",
      "execution_count": null,
      "metadata": {
        "id": "v8WxT-Hm4T7i"
      },
      "outputs": [],
      "source": [
        "def bezoutIdentity(residuo):\n",
        "    sustitucion = DicResidues[residuo]\n",
        "    if residuo == equalityBase[1][1]:\n",
        "        opc1 = 2\n",
        "        opc2 = 1\n",
        "    else:\n",
        "        opc1 = 1\n",
        "        opc2 = 2\n",
        "    igualdadAntigua = deepcopy(equalityBase)\n",
        "    equalityBase[opc1][0] = equalityBase[opc1][0] + equalityBase[opc2][0] * sustitucion[1]\n",
        "    equalityBase[opc2][1] = sustitucion[0]\n",
        "    #print(sustitucion)\n",
        "    #print(igualdadBase)\n",
        "    printEqualityBase(igualdadAntigua, equalityBase, sustitucion, opc2)"
      ]
    },
    {
      "cell_type": "code",
      "execution_count": null,
      "metadata": {
        "id": "o3EU0feA4T7i"
      },
      "outputs": [],
      "source": [
        "def getInverse(A, N):\n",
        "    global b\n",
        "    inverse = 0\n",
        "    if A == equalityBase[1][1]:\n",
        "        inverse = equalityBase[1][0]\n",
        "    elif A == equalityBase[2][1]:\n",
        "        inverse = -equalityBase[2][0]\n",
        "    if inverse<0:\n",
        "        print(\"\\n     → Como se debe tomar el Inverso a partir del residuo minimo, entonces se calcula el Inverso mínimo congruente:\\n\")\n",
        "        inverseOrig = inverse\n",
        "        inverse = inverse + N\n",
        "        print(\"           \"+str(A) + \" (\" +  str(inverseOrig) + \")  ≅  \" + str(A) + printYellow(\" (\" +  str(inverseOrig) + \" + \" + str(N) + \")\") + \"  ≅  \" + str(A) + printYellow(\" (\" +  str(inverseOrig + N) + \")\") +   \" mod \" +  str(N))\n",
        "    print(printYellow(\"\\n   ---  El Inverso Multiplicativo de \" + str(A) + \" mod \" + str(N) + \" es: \" + bold(str(inverse)) + \"  ---\") )\n",
        "    print()\n",
        "    print(bold(\"COMPROBACIÓN:       \") +str(A) + printYellow( \" (\" + str(inverse) + \")\") + \" ≅ 1 mod \" + str(N) + \" ✅\" )\n",
        "    b = inverse\n",
        "    print(\"\\n\\n\\n\" + printYellow(\"        b = \") + str(b) + \"\\n\")"
      ]
    },
    {
      "cell_type": "code",
      "execution_count": null,
      "metadata": {
        "colab": {
          "base_uri": "https://localhost:8080/"
        },
        "id": "32ELJmGE4T7i",
        "outputId": "fda9ce4f-40e5-464d-c6cb-04ec3b384e2f"
      },
      "outputs": [
        {
          "output_type": "stream",
          "name": "stdout",
          "text": [
            "\u001b[93m   --- Algoritmo para calcular el Inverso Multiplicativo de \u001b[1m491050170652007665 mod 637738774850494512. ---   \u001b[0m\u001b[0m\n",
            "\n",
            " \n",
            "\u001b[1m    IDENTIDAD DE BEZOUT    \n",
            "\u001b[0m\n",
            "\u001b[1m1 = \u001b[0m1 (3) - 1 [5 - 1•3]\u001b[1m    =    \u001b[0m2 (3) - 1 (5)\n",
            "\n",
            "\u001b[1m1 = \u001b[0m2 [8 - 1•5] - 1 (5)\u001b[1m    =    \u001b[0m2 (8) - 3 (5)\n",
            "\n",
            "\u001b[1m1 = \u001b[0m2 (8) - 3 [13 - 1•8]\u001b[1m    =    \u001b[0m5 (8) - 3 (13)\n",
            "\n",
            "\u001b[1m1 = \u001b[0m5 [112 - 8•13] - 3 (13)\u001b[1m    =    \u001b[0m5 (112) - 43 (13)\n",
            "\n",
            "\u001b[1m1 = \u001b[0m5 (112) - 43 [125 - 1•112]\u001b[1m    =    \u001b[0m48 (112) - 43 (125)\n",
            "\n",
            "\u001b[1m1 = \u001b[0m48 [612 - 4•125] - 43 (125)\u001b[1m    =    \u001b[0m48 (612) - 235 (125)\n",
            "\n",
            "\u001b[1m1 = \u001b[0m48 (612) - 235 [2573 - 4•612]\u001b[1m    =    \u001b[0m988 (612) - 235 (2573)\n",
            "\n",
            "\u001b[1m1 = \u001b[0m988 [3185 - 1•2573] - 235 (2573)\u001b[1m    =    \u001b[0m988 (3185) - 1223 (2573)\n",
            "\n",
            "\u001b[1m1 = \u001b[0m988 (3185) - 1223 [5758 - 1•3185]\u001b[1m    =    \u001b[0m2211 (3185) - 1223 (5758)\n",
            "\n",
            "\u001b[1m1 = \u001b[0m2211 [83797 - 14•5758] - 1223 (5758)\u001b[1m    =    \u001b[0m2211 (83797) - 32177 (5758)\n",
            "\n",
            "\u001b[1m1 = \u001b[0m2211 (83797) - 32177 [89555 - 1•83797]\u001b[1m    =    \u001b[0m34388 (83797) - 32177 (89555)\n",
            "\n",
            "\u001b[1m1 = \u001b[0m34388 [262907 - 2•89555] - 32177 (89555)\u001b[1m    =    \u001b[0m34388 (262907) - 100953 (89555)\n",
            "\n",
            "\u001b[1m1 = \u001b[0m34388 (262907) - 100953 [1404090 - 5•262907]\u001b[1m    =    \u001b[0m539153 (262907) - 100953 (1404090)\n",
            "\n",
            "\u001b[1m1 = \u001b[0m539153 [8687447 - 6•1404090] - 100953 (1404090)\u001b[1m    =    \u001b[0m539153 (8687447) - 3335871 (1404090)\n",
            "\n",
            "\u001b[1m1 = \u001b[0m539153 (8687447) - 3335871 [904898578 - 104•8687447]\u001b[1m    =    \u001b[0m347469737 (8687447) - 3335871 (904898578)\n",
            "\n",
            "\u001b[1m1 = \u001b[0m347469737 [4533180337 - 5•904898578] - 3335871 (904898578)\u001b[1m    =    \u001b[0m347469737 (4533180337) - 1740684556 (904898578)\n",
            "\n",
            "\u001b[1m1 = \u001b[0m347469737 (4533180337) - 1740684556 [5438078915 - 1•4533180337]\u001b[1m    =    \u001b[0m2088154293 (4533180337) - 1740684556 (5438078915)\n",
            "\n",
            "\u001b[1m1 = \u001b[0m2088154293 [31723574912 - 5•5438078915] - 1740684556 (5438078915)\u001b[1m    =    \u001b[0m2088154293 (31723574912) - 12181456021 (5438078915)\n",
            "\n",
            "\u001b[1m1 = \u001b[0m2088154293 (31723574912) - 12181456021 [132332378563 - 4•31723574912]\u001b[1m    =    \u001b[0m50813978377 (31723574912) - 12181456021 (132332378563)\n",
            "\n",
            "\u001b[1m1 = \u001b[0m50813978377 [164055953475 - 1•132332378563] - 12181456021 (132332378563)\u001b[1m    =    \u001b[0m50813978377 (164055953475) - 62995434398 (132332378563)\n",
            "\n",
            "\u001b[1m1 = \u001b[0m50813978377 (164055953475) - 62995434398 [1116668099413 - 6•164055953475]\u001b[1m    =    \u001b[0m428786584765 (164055953475) - 62995434398 (1116668099413)\n",
            "\n",
            "\u001b[1m1 = \u001b[0m428786584765 [25847422239974 - 23•1116668099413] - 62995434398 (1116668099413)\u001b[1m    =    \u001b[0m428786584765 (25847422239974) - 9925086883993 (1116668099413)\n",
            "\n",
            "\u001b[1m1 = \u001b[0m428786584765 (25847422239974) - 9925086883993 [52811512579361 - 2•25847422239974]\u001b[1m    =    \u001b[0m20278960352751 (25847422239974) - 9925086883993 (52811512579361)\n",
            "\n",
            "\u001b[1m1 = \u001b[0m20278960352751 [131470447398696 - 2•52811512579361] - 9925086883993 (52811512579361)\u001b[1m    =    \u001b[0m20278960352751 (131470447398696) - 50483007589495 (52811512579361)\n",
            "\n",
            "\u001b[1m1 = \u001b[0m20278960352751 (131470447398696) - 50483007589495 [184281959978057 - 1•131470447398696]\u001b[1m    =    \u001b[0m70761967942246 (131470447398696) - 50483007589495 (184281959978057)\n",
            "\n",
            "\u001b[1m1 = \u001b[0m70761967942246 [868598287310924 - 4•184281959978057] - 50483007589495 (184281959978057)\u001b[1m    =    \u001b[0m70761967942246 (868598287310924) - 333530879358479 (184281959978057)\n",
            "\n",
            "\u001b[1m1 = \u001b[0m70761967942246 (868598287310924) - 333530879358479 [6264469971154525 - 7•868598287310924]\u001b[1m    =    \u001b[0m2405478123451599 (868598287310924) - 333530879358479 (6264469971154525)\n",
            "\n",
            "\u001b[1m1 = \u001b[0m2405478123451599 [44719888085392599 - 7•6264469971154525] - 333530879358479 (6264469971154525)\u001b[1m    =    \u001b[0m2405478123451599 (44719888085392599) - 17171877743519672 (6264469971154525)\n",
            "\n",
            "\u001b[1m1 = \u001b[0m2405478123451599 (44719888085392599) - 17171877743519672 [50984358056547124 - 1•44719888085392599]\u001b[1m    =    \u001b[0m19577355866971271 (44719888085392599) - 17171877743519672 (50984358056547124)\n",
            "\n",
            "\u001b[1m1 = \u001b[0m19577355866971271 [146688604198486847 - 2•50984358056547124] - 17171877743519672 (50984358056547124)\u001b[1m    =    \u001b[0m19577355866971271 (146688604198486847) - 56326589477462214 (50984358056547124)\n",
            "\n",
            "\u001b[1m1 = \u001b[0m19577355866971271 (146688604198486847) - 56326589477462214 [491050170652007665 - 3•146688604198486847]\u001b[1m    =    \u001b[0m188557124299357913 (146688604198486847) - 56326589477462214 (491050170652007665)\n",
            "\n",
            "\u001b[1m1 = \u001b[0m188557124299357913 [637738774850494512 - 1•491050170652007665] - 56326589477462214 (491050170652007665)\u001b[1m    =    \u001b[0m188557124299357913 (637738774850494512) - 244883713776820127 (491050170652007665)\n",
            "\n",
            "\u001b[1m1 = \u001b[0m188557124299357913 (637738774850494512) - 244883713776820127 [491050170652007665 - 0•637738774850494512]\u001b[1m    =    \u001b[0m188557124299357913 (637738774850494512) - 244883713776820127 (491050170652007665)\n",
            "\n",
            "\n",
            "     → Como se debe tomar el Inverso a partir del residuo minimo, entonces se calcula el Inverso mínimo congruente:\n",
            "\n",
            "           491050170652007665 (-244883713776820127)  ≅  491050170652007665\u001b[93m (-244883713776820127 + 637738774850494512)\u001b[0m  ≅  491050170652007665\u001b[93m (392855061073674385)\u001b[0m mod 637738774850494512\n",
            "\u001b[93m\n",
            "   ---  El Inverso Multiplicativo de 491050170652007665 mod 637738774850494512 es: \u001b[1m392855061073674385\u001b[0m  ---\u001b[0m\n",
            "\n",
            "\u001b[1mCOMPROBACIÓN:       \u001b[0m491050170652007665\u001b[93m (392855061073674385)\u001b[0m ≅ 1 mod 637738774850494512 ✅\n",
            "\n",
            "\n",
            "\n",
            "\u001b[93m        b = \u001b[0m392855061073674385\n",
            "\n"
          ]
        }
      ],
      "source": [
        "computeB()"
      ]
    },
    {
      "cell_type": "markdown",
      "metadata": {
        "id": "0-j0YEl44T7j"
      },
      "source": [
        "### Publicación de las claves (públicas y privadas)\n",
        "\n",
        "<p>La función publishKeys() se encarga de imprimir las claves públicas y privadas utilizadas en el algoritmo RSA.</p>\n",
        "<p>Primero, se imprimen las claves públicas:</p>\n",
        "<ul>\n",
        "  <li>Imprime la etiqueta \"Claves Públicas:\".</li>\n",
        "  <li>Imprime la clave pública n resaltada en amarillo utilizando la función printYellow().</li>\n",
        "  <li>Imprime el valor de n.</li>\n",
        "  <li>Imprime la clave pública a resaltada en amarillo utilizando la función printYellow().</li>\n",
        "  <li>Imprime el valor de a.</li>\n",
        "</ul>\n",
        "<p>Luego, se imprimen las claves privadas:</p>\n",
        "<ul>\n",
        "  <li>Imprime la etiqueta \"Claves Privadas:\".</li>\n",
        "  <li>Imprime la clave privada p resaltada en amarillo utilizando la función printYellow().</li>\n",
        "  <li>Imprime el valor de p.</li>\n",
        "  <li>Imprime la clave privada q resaltada en amarillo utilizando la función printYellow().</li>\n",
        "  <li>Imprime el valor de q.</li>\n",
        "  <li>Imprime la clave privada b resaltada en amarillo utilizando la función printYellow().</li>\n",
        "  <li>Imprime el valor de b.</li>\n",
        "</ul>\n",
        "\n",
        "    \n",
        "    \n",
        "    \n",
        "    \n",
        "    "
      ]
    },
    {
      "cell_type": "code",
      "execution_count": null,
      "metadata": {
        "id": "t8VfuL3P4T7j"
      },
      "outputs": [],
      "source": [
        "def publishKeys():\n",
        "    print(\"Claves Publicas: \\n\"\n",
        "          +printYellow(\"    n = \") + str(n)+\"\\n\"\n",
        "          +printYellow(\"    a = \") + str(a)+\"\\n\")\n",
        "\n",
        "    print(\"Claves Privadas: \\n\"\n",
        "          +printYellow(\"    p = \") + str(p)+\"\\n\"\n",
        "          +printYellow(\"    q = \") + str(q)+\"\\n\"\n",
        "          +printYellow(\"    b = \") + str(b)+\"\\n\\n\")"
      ]
    },
    {
      "cell_type": "code",
      "execution_count": null,
      "metadata": {
        "colab": {
          "base_uri": "https://localhost:8080/"
        },
        "id": "Vm43a0fl4T7j",
        "outputId": "20cedde3-3f63-452f-d7ee-36fd170012e7"
      },
      "outputs": [
        {
          "output_type": "stream",
          "name": "stdout",
          "text": [
            "Claves Publicas: \n",
            "\u001b[93m    n = \u001b[0m637738776453714241\n",
            "\u001b[93m    a = \u001b[0m491050170652007665\n",
            "\n",
            "Claves Privadas: \n",
            "\u001b[93m    p = \u001b[0m871177093\n",
            "\u001b[93m    q = \u001b[0m732042637\n",
            "\u001b[93m    b = \u001b[0m392855061073674385\n",
            "\n",
            "\n"
          ]
        }
      ],
      "source": [
        "publishKeys()"
      ]
    },
    {
      "cell_type": "markdown",
      "metadata": {
        "id": "InHNdask4T7j"
      },
      "source": [
        "### Encriptación del mensaje: e(x) = x^a mod n\n",
        "\n",
        "<p>El código mostrado a continuación solicita al usuario un mensaje, lo convierte en valores ASCII, encripta el mensaje utilizando el algoritmo RSA con las claves públicas n y a, y muestra el mensaje encriptado junto con las claves públicas utilizadas.</p>\n",
        "<p>Se define una lista vacía messageInt para almacenar los valores ASCII de cada carácter del mensaje original, y una lista vacía encryptedMsg para almacenar los valores encriptados.</p>\n",
        "<p>La función enterData() se encarga de solicitar al usuario que ingrese un mensaje. El mensaje se lee como una cadena de texto y se itera sobre cada carácter. Para cada carácter, se obtiene su valor ASCII utilizando la función ord() y se agrega a la lista messageInt. Luego, se imprime el mensaje en código ASCII.</p>\n",
        "<p>La función encrypt() realiza el proceso de encriptación utilizando los valores de messageInt, a y n. Itera sobre cada valor en messageInt, y para cada valor, utiliza la función pow() para calcular el resultado de elevarlo a la potencia a y luego calcular el residuo de esa potencia con n. El resultado encriptado se agrega a la lista encryptedMsg como una cadena de texto.</p>\n",
        "<p>Luego, la lista encryptedMsg se convierte en una cadena de texto separada por comas utilizando \",\".join(encryptedMsg). Después, se codifica en base64 utilizando base64.b64encode() para obtener una representación encriptada del mensaje. Finalmente, se imprime el mensaje encriptado utilizando print().</p>\n",
        "<p>Por último, se imprime nuevamente las claves públicas n y a utilizando el mismo formato de impresión anterior.</p>"
      ]
    },
    {
      "cell_type": "code",
      "execution_count": null,
      "metadata": {
        "id": "svjqHUGo4T7j"
      },
      "outputs": [],
      "source": [
        "messageInt = []\n",
        "encryptedMsg = []\n",
        "\n",
        "def encrypt():\n",
        "    global encryptedMsg\n",
        "\n",
        "    for asciiValue in messageInt:\n",
        "        encryptedMsg.append(str(pow(asciiValue, a, n)))\n",
        "    encryptedMsg = \",\".join(encryptedMsg)\n",
        "    encryptedMsg = base64.b64encode(encryptedMsg.encode('utf-8')).decode('utf-8')\n",
        "    print(\"El mensaje encriptado es: \" + str(encryptedMsg)+\"\\n\\n\")\n",
        "    print(\"Claves Publicas: \\n\"\n",
        "          +printYellow(\"    n = \") + str(n)+\"\\n\"\n",
        "          +printYellow(\"    a = \") + str(a)+\"\\n\")"
      ]
    },
    {
      "cell_type": "code",
      "execution_count": null,
      "metadata": {
        "id": "ayBuw7LZ4T7j"
      },
      "outputs": [],
      "source": [
        "def enterData():\n",
        "    global messageInt\n",
        "    messageInt = []\n",
        "    mensaje = input(\"Ingrese el Mensaje: \")\n",
        "    [messageInt.append(ord(letra)) for letra in mensaje]\n",
        "    print(\"Mensaje en codigo ASCII: \" + str(messageInt))"
      ]
    },
    {
      "cell_type": "markdown",
      "source": [
        "<p>Pongamos a prueba el algoritmo. Vamos a probar con un mensaje sencillo, para empezar. Supongamos que el mensaje sea: \"Hola, ¿quieres tomar un café conmigo?\".<p>"
      ],
      "metadata": {
        "id": "9DBg7239MlsS"
      }
    },
    {
      "cell_type": "code",
      "execution_count": null,
      "metadata": {
        "colab": {
          "base_uri": "https://localhost:8080/"
        },
        "id": "umCe7M994T7j",
        "outputId": "c75f0409-6650-431e-aeca-124189b09429"
      },
      "outputs": [
        {
          "output_type": "stream",
          "name": "stdout",
          "text": [
            "Ingrese el Mensaje: Hola, ¿quieres tomar un café conmigo?\n",
            "Mensaje en codigo ASCII: [72, 111, 108, 97, 44, 32, 191, 113, 117, 105, 101, 114, 101, 115, 32, 116, 111, 109, 97, 114, 32, 117, 110, 32, 99, 97, 102, 233, 32, 99, 111, 110, 109, 105, 103, 111, 63]\n"
          ]
        }
      ],
      "source": [
        "enterData()"
      ]
    },
    {
      "cell_type": "code",
      "execution_count": null,
      "metadata": {
        "colab": {
          "base_uri": "https://localhost:8080/"
        },
        "id": "Wvw50M764T7j",
        "outputId": "23326496-de84-43ae-b0eb-3e76cc15d0d3"
      },
      "outputs": [
        {
          "output_type": "stream",
          "name": "stdout",
          "text": [
            "El mensaje encriptado es: NzU2Nzk5MDEyMTg3ODU4NTEsMTEwNzY4NDc3NzkzNjAwMjE0LDQxNDk4MzI2MzY2MzM1ODIwNywxOTk3MDAzNzc3MjYyNzQ1OTEsNTQ5NDMzNzU2MjE5NjA0MTUzLDI0Nzk5NzgyNjQyMjY4Mzk1NiwyMjkyMjM0NjEzMzkxMTYzNzAsNTAwNzUwNjU2NjM2OTM1MzIyLDE0MjAwNzIzMDY2Njc0ODU4Myw1MDYwMTMzOTYwNTQzNDIyMjgsMjA4NjEwMzg5NDQzOTM3MzA1LDExMDY1OTA4Mjg3MzkzMzc4MCwyMDg2MTAzODk0NDM5MzczMDUsMjMxOTUwNDgxNzQwMzk2OTMyLDI0Nzk5NzgyNjQyMjY4Mzk1NiwyMzgxNjI3NDc1NjM4ODE5MzYsMTEwNzY4NDc3NzkzNjAwMjE0LDE0Njc0ODMxOTMzMzU0NjkxNywxOTk3MDAzNzc3MjYyNzQ1OTEsMTEwNjU5MDgyODczOTMzNzgwLDI0Nzk5NzgyNjQyMjY4Mzk1NiwxNDIwMDcyMzA2NjY3NDg1ODMsNDcwMzA3ODU0MjIxMjk1MDEyLDI0Nzk5NzgyNjQyMjY4Mzk1NiwyNzY2MTE0MjExMDY0MDM1OTUsMTk5NzAwMzc3NzI2Mjc0NTkxLDQ3MjQ1MzI4OTY4ODUxNDc4OSwyNTM3MDQzNjcyMzk4NDA5MjEsMjQ3OTk3ODI2NDIyNjgzOTU2LDI3NjYxMTQyMTEwNjQwMzU5NSwxMTA3Njg0Nzc3OTM2MDAyMTQsNDcwMzA3ODU0MjIxMjk1MDEyLDE0Njc0ODMxOTMzMzU0NjkxNyw1MDYwMTMzOTYwNTQzNDIyMjgsMTMyOTk4OTc5ODY5NzAzMjU0LDExMDc2ODQ3Nzc5MzYwMDIxNCwyNDc2NDYzMTE5Nzc4MzA4MDQ=\n",
            "\n",
            "\n",
            "Claves Publicas: \n",
            "\u001b[93m    n = \u001b[0m637738776453714241\n",
            "\u001b[93m    a = \u001b[0m491050170652007665\n",
            "\n"
          ]
        }
      ],
      "source": [
        "encrypt()"
      ]
    },
    {
      "cell_type": "markdown",
      "source": [
        "<p>Parece que todo va muy bien, el mensaje quedó almacenado con sus valores ASCII y se generó el mensaje de encriptado y las claves adecuadamente. Ahora, es momento de desencriptar.</p>"
      ],
      "metadata": {
        "id": "RnBjIqu1M9IX"
      }
    },
    {
      "cell_type": "markdown",
      "source": [
        "### Desencriptación del mensaje: d(y) = y^b mod n\n",
        "\n",
        "<p>El siguiente código toma un mensaje encriptado, decodifica el mensaje encriptado en base64, desencripta cada valor encriptado utilizando las claves privadas p, q y b, y muestra el mensaje original desencriptado.</p>\n",
        "<p>La función decrypt() realiza el proceso de desencriptación del mensaje encriptado.</p>\n",
        "<p>Se declara una lista llamada decryptedValues para almacenar los valores desencriptados.</p>\n",
        "<p>El mensaje encriptado (encryptedMsg) se decodifica de base64 utilizando base64.b64decode(). Luego, se divide el mensaje decodificado en una lista de valores encriptados utilizando split(\",\"), asumiendo que los valores encriptados están separados por comas.</p>\n",
        "<p>Para cada valor en la lista encryptedValues, se realiza la operación de desencriptación utilizando la función pow() para elevar el valor encriptado a la potencia b y luego calcular el residuo con n. El resultado desencriptado se convierte en un carácter utilizando la función chr() y se agrega a la lista decryptedValues.</p>\n",
        "<p>La lista decryptedValues se convierte en una cadena de texto utilizando \"\".join(decryptedValues) para obtener el mensaje desencriptado.</p>\n",
        "<p>Por último, se imprime el mensaje desencriptado utilizando print().</p>"
      ],
      "metadata": {
        "id": "8re_dwiyUG6p"
      }
    },
    {
      "cell_type": "code",
      "source": [
        "def decrypt():\n",
        "    global encryptedMsg\n",
        "    decryptedValues = []\n",
        "    encryptedMsgDecoded = base64.b64decode(encryptedMsg.encode('utf-8')).decode('utf-8')\n",
        "    encryptedValues = encryptedMsgDecoded.split(\",\")\n",
        "    for encryptedValue in encryptedValues:\n",
        "        decryptedValue = pow(int(encryptedValue), b, n)\n",
        "        decryptedValues.append(chr(decryptedValue))\n",
        "        decryptedMsg = \"\".join(decryptedValues)\n",
        "    print(\"El mensaje desencriptado es: \" + decryptedMsg)\n",
        "\n",
        "decrypt()"
      ],
      "metadata": {
        "colab": {
          "base_uri": "https://localhost:8080/"
        },
        "id": "l4XnVYCOURwp",
        "outputId": "ddf217ff-53ef-450a-d27a-f09017dc797f"
      },
      "execution_count": null,
      "outputs": [
        {
          "output_type": "stream",
          "name": "stdout",
          "text": [
            "El mensaje desencriptado es: Hola, ¿quieres tomar un café conmigo?\n"
          ]
        }
      ]
    },
    {
      "cell_type": "markdown",
      "source": [
        "<p>¡Bingo! Tu mensaje fue encriptado y desencriptado a la perfección. Ahora, ya que sabes que no correras ningún riesgo, puedes enviarle tu mensaje a esa persona especial. ¡Buena suerte!</p>\n",
        "\n",
        "## Conclusiones\n",
        "\n",
        "<p>Se pueden concluir las siguientes ventajas respecto de la implementación de este algoritmo:</p>\n",
        "<ol>\n",
        "  <li>Seguridad: El algoritmo RSA proporciona un alto nivel de seguridad en la comunicación de datos, ya que se basa en la dificultad de factorizar grandes números primos. La fortaleza del algoritmo radica en la dificultad de calcular los factores primos de un número compuesto lo suficientemente grande.</li>\n",
        "  <li>Uso de cables púbicas y privadas: El algoritmo RSA utiliza un par de claves, una pública y una privada. La clave pública se utiliza para encriptar el mensaje, mientras que la clave privada se utiliza para desencriptar el mensaje. Esto permite una comunicación segura, ya que solo la parte que posee la clave privada puede descifrar los mensajes encriptados. Esto se realiza mediante la generación de claves a partir de números primos aleatorios grandes. La seguridad del algoritmo depende de mantener en secreto la clave privada.</li>\n",
        "  <li>Proceso de encriptación y desencriptación: En el proceso de encriptación, el mensaje se divide en bloques y cada bloque se encripta utilizando la clave pública y una operación exponencial modular. El mensaje encriptado resultante es seguro para su transmisión. Mientras que el receptor del mensaje encriptado utiliza la clave privada para desencriptar el mensaje. Mediante una operación exponencial modular con la clave privada, se obtiene el mensaje original.</li>\n",
        "  <li>Uso de la base 64: En la implementación efectuada, el mensaje encriptado se codifica utilizando base64 antes de su transmisión. Esto permite representar los valores encriptados como una cadena de texto legible que facilita su almacenamiento y transmisión.</li>\n",
        "</ol>\n",
        "<p>La implementación del algoritmo RSA que se realizó es eficiente y confiable para garantizar la seguridad al momento de transmitir datos. No obstante, es preciso considerar que el rendimiento de este algoritmo podría verse afectado por el tamaño de los números primos utilizados y la longitud del mensaje a encriptar. Adicionalmente, se deben proteger las claves privadas apropiadamente, para que la integridad del mensaje no se vea comprometida.</p>"
      ],
      "metadata": {
        "id": "EYp2dQA1OzFS"
      }
    }
  ],
  "metadata": {
    "kernelspec": {
      "display_name": "Python 3 (ipykernel)",
      "language": "python",
      "name": "python3"
    },
    "language_info": {
      "codemirror_mode": {
        "name": "ipython",
        "version": 3
      },
      "file_extension": ".py",
      "mimetype": "text/x-python",
      "name": "python",
      "nbconvert_exporter": "python",
      "pygments_lexer": "ipython3",
      "version": "3.10.5"
    },
    "colab": {
      "provenance": []
    }
  },
  "nbformat": 4,
  "nbformat_minor": 0
}